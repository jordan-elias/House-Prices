{
  "nbformat": 4,
  "nbformat_minor": 0,
  "metadata": {
    "colab": {
      "provenance": []
    },
    "kernelspec": {
      "name": "python3",
      "display_name": "Python 3"
    },
    "language_info": {
      "name": "python"
    }
  },
  "cells": [
    {
      "cell_type": "code",
      "execution_count": null,
      "metadata": {
        "id": "S-j7rIFhs0JG"
      },
      "outputs": [],
      "source": [
        "import numpy as np\n",
        "import pandas as pd\n",
        "\n",
        "import os\n",
        "for dirname, _, filenames in os.walk('/kaggle/input'):\n",
        "    for filename in filenames:\n",
        "        print(os.path.join(dirname, filename))\n"
      ]
    },
    {
      "cell_type": "code",
      "source": [
        "# reading in train and test data\n",
        "\n",
        "train = pd.read_csv('/kaggle/input/house-prices-advanced-regression-techniques/train.csv')\n",
        "test = pd.read_csv('/kaggle/input/house-prices-advanced-regression-techniques/test.csv')\n",
        "test_ids = test['Id']\n",
        "train.head()"
      ],
      "metadata": {
        "id": "60i_iDE_s4HC"
      },
      "execution_count": null,
      "outputs": []
    },
    {
      "cell_type": "code",
      "source": [
        "#dropping columns with >1000 missing values\n",
        "\n",
        "test.drop(['Alley','PoolQC','Fence','MiscFeature'],axis=1,inplace=True)\n",
        "train.drop(['Alley','PoolQC','Fence','MiscFeature'],axis=1,inplace=True)"
      ],
      "metadata": {
        "id": "Wt5niAzos4JT"
      },
      "execution_count": null,
      "outputs": []
    },
    {
      "cell_type": "code",
      "source": [
        "# Fill in missing values with most frequent values\n",
        "for col in train.columns:\n",
        "    train[col].fillna(train[col].mode()[0],inplace=True)\n",
        "    \n",
        "for col in test.columns:\n",
        "    test[col].fillna(test[col].mode()[0],inplace=True)"
      ],
      "metadata": {
        "id": "CwKEN8kls4L3"
      },
      "execution_count": null,
      "outputs": []
    },
    {
      "cell_type": "code",
      "source": [
        "# encode categorical variables to numeric\n",
        "\n",
        "from sklearn.preprocessing import LabelEncoder\n",
        "\n",
        "le = LabelEncoder()\n",
        "cols = ['MSZoning','Street','LotShape','LandContour','Utilities','LotConfig','LandSlope','Neighborhood','Condition1','Condition2','BldgType','HouseStyle','RoofStyle',\n",
        "       'RoofMatl','Exterior1st','Exterior2nd','MasVnrType','ExterQual','ExterCond','Foundation','BsmtQual','BsmtCond','BsmtExposure','BsmtFinType1','BsmtFinType2','Heating',\n",
        "       'HeatingQC','CentralAir','Electrical','KitchenQual','Functional','FireplaceQu','GarageType','GarageFinish','GarageQual','GarageCond','PavedDrive','SaleType','SaleCondition']\n",
        "# these are the columns with categorical data \n",
        "\n",
        "def encode(df):\n",
        "    df.drop('Id',axis=1,inplace=True)\n",
        "    for i in cols:\n",
        "        df[i] = le.fit_transform(df[i])\n",
        "\n",
        "    return df\n",
        "\n",
        "train = encode(train)\n",
        "test = encode(test)\n"
      ],
      "metadata": {
        "id": "JY6MsMOTs4PX"
      },
      "execution_count": null,
      "outputs": []
    },
    {
      "cell_type": "code",
      "source": [
        "from sklearn.model_selection import train_test_split\n",
        "from sklearn.ensemble import RandomForestRegressor\n"
      ],
      "metadata": {
        "id": "FnasPKF8th-S"
      },
      "execution_count": null,
      "outputs": []
    },
    {
      "cell_type": "code",
      "source": [
        "X = train.drop('SalePrice',axis=1)\n",
        "y = train.SalePrice\n",
        "\n",
        "X_train,X_test,y_train,y_test = train_test_split(X,y,test_size=0.2)\n",
        "clf = RandomForestRegressor(random_state=29)\n",
        "clf.fit(X_train,y_train)\n",
        "clf.score(X_test,y_test)"
      ],
      "metadata": {
        "id": "hnm0DMratiAl"
      },
      "execution_count": null,
      "outputs": []
    },
    {
      "cell_type": "code",
      "source": [
        "preds = clf.predict(test)\n"
      ],
      "metadata": {
        "id": "WXYT83HhtiEK"
      },
      "execution_count": null,
      "outputs": []
    },
    {
      "cell_type": "code",
      "source": [
        "# storing predictions\n",
        "\n",
        "sub_df = pd.DataFrame({'Id':test_ids,'SalePrice':preds})\n",
        "sub_df.to_csv('sub_df.csv',index=False)\n",
        "sub_df"
      ],
      "metadata": {
        "id": "BwqG7D4mtpXU"
      },
      "execution_count": null,
      "outputs": []
    },
    {
      "cell_type": "code",
      "source": [],
      "metadata": {
        "id": "2G0Q4B82tpau"
      },
      "execution_count": null,
      "outputs": []
    }
  ]
}